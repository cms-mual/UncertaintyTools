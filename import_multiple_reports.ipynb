{
 "cells": [
  {
   "cell_type": "code",
   "execution_count": null,
   "id": "d96cdb74",
   "metadata": {},
   "outputs": [],
   "source": [
    "import glob\n",
    "from importlib import import_module\n",
    "from ape_producer.parse_report import make_cov_objects, square_array\n",
    "import numpy as np\n",
    "import pandas as pd\n",
    "import re"
   ]
  },
  {
   "cell_type": "code",
   "execution_count": null,
   "id": "8e32b370",
   "metadata": {},
   "outputs": [],
   "source": [
    "metadata = {\n",
    "    \"name\":\"SM_10_6_01\"\n",
    "}"
   ]
  },
  {
   "cell_type": "code",
   "execution_count": null,
   "id": "5df4ed98",
   "metadata": {},
   "outputs": [],
   "source": [
    "import data.SM_10_6_01_report_0 as report"
   ]
  },
  {
   "cell_type": "code",
   "execution_count": null,
   "id": "37d9f558",
   "metadata": {},
   "outputs": [],
   "source": [
    "report"
   ]
  },
  {
   "cell_type": "code",
   "execution_count": null,
   "id": "b99b0798",
   "metadata": {},
   "outputs": [],
   "source": [
    "files = glob.glob('data/{name}*.py'.format(**metadata))\n",
    "modules = [f.replace('/', '.').replace('.py','') for f in files]\n",
    "modules"
   ]
  },
  {
   "cell_type": "code",
   "execution_count": null,
   "id": "7f17e392",
   "metadata": {},
   "outputs": [],
   "source": [
    "wheel_station = [[-2,  1],\n",
    "       [-2,  2],\n",
    "       [-2,  3],\n",
    "       [-2,  4],\n",
    "       [-1,  1],\n",
    "       [-1,  2],\n",
    "       [-1,  3],\n",
    "       [-1,  4],\n",
    "       [ 0,  1],\n",
    "       [ 0,  2],\n",
    "       [ 0,  3],\n",
    "       [ 0,  4],\n",
    "       [ 1,  1],\n",
    "       [ 1,  2],\n",
    "       [ 1,  3],\n",
    "       [ 1,  4],\n",
    "       [ 2,  1],\n",
    "       [ 2,  2],\n",
    "       [ 2,  3],\n",
    "       [ 2,  4]]\n",
    "alignables = ['x','y','z','phix', 'phiy', 'phiz']\n"
   ]
  },
  {
   "cell_type": "code",
   "execution_count": null,
   "id": "523f99db",
   "metadata": {},
   "outputs": [],
   "source": [
    "def sel_wheel_station(df, wheel, station):\n",
    "    return df[(df.wheel==wheel) &  (df.station==station)]"
   ]
  },
  {
   "cell_type": "code",
   "execution_count": null,
   "id": "1b00d06f",
   "metadata": {},
   "outputs": [],
   "source": [
    "def get_report(module_name):\n",
    "    return import_module(module_name).reports"
   ]
  },
  {
   "cell_type": "code",
   "execution_count": null,
   "id": "0ef4e960",
   "metadata": {},
   "outputs": [],
   "source": [
    "def make_hesse_df_dt(df):\n",
    "    hesse_list = []\n",
    "    for wheel, station in wheel_station:\n",
    "        tdf = sel_wheel_station(df,wheel,station)\n",
    "        covMatrix = tdf.covMatrix.mean()\n",
    "        hess_stds = np.diagonal(covMatrix)**.5\n",
    "        nMuons, nMuonsStD = tdf.nMuons.mean(), tdf.nMuons.std()\n",
    "        hesse_list.append({\"wheel\": wheel, \"station\": station,\"nMuons_mean\": nMuons, \"nMuons_std\":nMuonsStD, **{'hesse_unc_'+dim:hess for hess, dim in zip(hess_stds, alignables)}})\n",
    "    hesse_df = pd.DataFrame(hesse_list)\n",
    "    return hesse_df"
   ]
  },
  {
   "cell_type": "code",
   "execution_count": null,
   "id": "f3d47247",
   "metadata": {},
   "outputs": [],
   "source": [
    "def make_summary_report_df(module_name, njobs):\n",
    "    report_ex = get_report(module_name)\n",
    "    dt_cov_df, csc_cov_df = make_cov_objects(report_ex, debug=False)\n",
    "    df = make_hesse_df_dt(dt_cov_df)\n",
    "    df['njobs']= njobs\n",
    "    return df"
   ]
  },
  {
   "cell_type": "code",
   "execution_count": null,
   "id": "429741db",
   "metadata": {},
   "outputs": [],
   "source": [
    "def number_from_name(name):\n",
    "    return int(re.findall('report_(\\d+)', name)[0])"
   ]
  },
  {
   "cell_type": "code",
   "execution_count": null,
   "id": "108781cd",
   "metadata": {},
   "outputs": [],
   "source": [
    "stats_df = pd.DataFrame()\n",
    "for module in modules:\n",
    "    print(module)\n",
    "    df = make_summary_report_df(module, number_from_name(module))\n",
    "    stats_df = stats_df.append(df)"
   ]
  },
  {
   "cell_type": "code",
   "execution_count": null,
   "id": "7e8214c4",
   "metadata": {},
   "outputs": [],
   "source": [
    "stats_df.sort_values(['wheel', 'station', 'njobs'])"
   ]
  },
  {
   "cell_type": "code",
   "execution_count": null,
   "id": "c13bc69d",
   "metadata": {},
   "outputs": [],
   "source": [
    "stats_df.to_csv('data/nmuon_hesse_df.csv')"
   ]
  }
 ],
 "metadata": {
  "kernelspec": {
   "display_name": "Python 3",
   "language": "python",
   "name": "python3"
  },
  "language_info": {
   "codemirror_mode": {
    "name": "ipython",
    "version": 3
   },
   "file_extension": ".py",
   "mimetype": "text/x-python",
   "name": "python",
   "nbconvert_exporter": "python",
   "pygments_lexer": "ipython3",
   "version": "3.9.6"
  }
 },
 "nbformat": 4,
 "nbformat_minor": 5
}
