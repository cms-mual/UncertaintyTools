{
 "cells": [
  {
   "cell_type": "code",
   "execution_count": null,
   "id": "c6b553a8",
   "metadata": {},
   "outputs": [],
   "source": [
    "import numpy as np\n",
    "import pandas as pd\n",
    "from math import isnan\n",
    "import re"
   ]
  },
  {
   "cell_type": "code",
   "execution_count": null,
   "id": "d308bfe8",
   "metadata": {},
   "outputs": [],
   "source": [
    "from ape_producer.geom_reader import create_geom_df\n",
    "from ape_producer.parse_report import make_cov_objects\n",
    "from ape_producer.sign_conventions import signConventions, square_coordinates"
   ]
  },
  {
   "cell_type": "code",
   "execution_count": null,
   "id": "e86b6e30",
   "metadata": {},
   "outputs": [],
   "source": [
    "# ipython magic to autoreload modules for development\n",
    "%load_ext autoreload\n",
    "%autoreload 2"
   ]
  },
  {
   "cell_type": "code",
   "execution_count": null,
   "id": "b4b26b0b",
   "metadata": {},
   "outputs": [],
   "source": [
    "#options\n",
    "outName = 'Test'\n",
    "isDT = True\n",
    "isData = False\n",
    "is3DOF = False\n",
    "outname = '_test'\n",
    "xmlFileAlign = 'data/exp_DT.xml'\n",
    "reportfile = 'data/exp_DT.py'\n",
    "xmlFileIdealGeom = 'data/muonGeometry_IDEAL_AllZeroes.Ape6x6.StdTags.746p3.DBv2.xml'\n",
    "debug = True"
   ]
  },
  {
   "cell_type": "code",
   "execution_count": null,
   "id": "ec2d80ae",
   "metadata": {},
   "outputs": [],
   "source": [
    "exec(open(reportfile).read())\n",
    "aligned_geom_dt, aligned_geom_csc  = create_geom_df(xmlFileAlign)\n",
    "if not isData:\n",
    "    ideal_geom_dt, ideal_geom_csc = create_geom_df(xmlFileIdealGeom)"
   ]
  },
  {
   "cell_type": "code",
   "execution_count": null,
   "id": "04a3cd26",
   "metadata": {},
   "outputs": [],
   "source": [
    "import matplotlib.pyplot as plt"
   ]
  },
  {
   "cell_type": "code",
   "execution_count": null,
   "id": "16d5b3f2",
   "metadata": {},
   "outputs": [],
   "source": [
    "aligned_geom_dt['measured_error_x'] =  aligned_geom_dt.x - ideal_geom_dt.x\n",
    "aligned_geom_dt['measured_error_y'] =  aligned_geom_dt.y - ideal_geom_dt.y\n",
    "aligned_geom_dt['measured_error_z'] =  aligned_geom_dt.z - ideal_geom_dt.z"
   ]
  },
  {
   "cell_type": "code",
   "execution_count": null,
   "id": "142687ba",
   "metadata": {},
   "outputs": [],
   "source": [
    "\n",
    "def make_histogram(ax, series, name, color='blue'):\n",
    "    counts, x_bins = np.histogram(\n",
    "                              series, \n",
    "                              bins = np.linspace(-0.1,0.1, 100)\n",
    "                             )\n",
    "    x_bins_centers = [(x_bins[i]+x_bins[i+1])/2 for i in range(len(x_bins)-1)]\n",
    "    ax.plot(x_bins_centers, counts, color=color, label=name)"
   ]
  },
  {
   "cell_type": "code",
   "execution_count": null,
   "id": "7faa97f0",
   "metadata": {},
   "outputs": [],
   "source": [
    "fig, ax = plt.subplots(figsize=[15,10])\n",
    "make_histogram(ax, aligned_geom_dt['measured_error_x'], \"measured_error_x\")\n",
    "make_histogram(ax, aligned_geom_dt['measured_error_y'], \"measured_error_y\", color='green')\n",
    "make_histogram(ax, aligned_geom_dt['measured_error_z'], \"measured_error_z\", color='orange')\n",
    "ax.legend()"
   ]
  },
  {
   "cell_type": "code",
   "execution_count": null,
   "id": "24eb2446",
   "metadata": {},
   "outputs": [],
   "source": [
    "total_unc_x, total_unc_y, total_unc_z = np.std(aligned_geom_dt['measured_error_x']), np.std(aligned_geom_dt['measured_error_y']), np.std(aligned_geom_dt['measured_error_z'])"
   ]
  },
  {
   "cell_type": "code",
   "execution_count": null,
   "id": "1a951f53",
   "metadata": {},
   "outputs": [],
   "source": [
    "total_unc_x, total_unc_y, total_unc_z"
   ]
  },
  {
   "cell_type": "code",
   "execution_count": null,
   "id": "94d19ccb",
   "metadata": {},
   "outputs": [],
   "source": []
  }
 ],
 "metadata": {
  "kernelspec": {
   "display_name": "Python 3",
   "language": "python",
   "name": "python3"
  },
  "language_info": {
   "codemirror_mode": {
    "name": "ipython",
    "version": 3
   },
   "file_extension": ".py",
   "mimetype": "text/x-python",
   "name": "python",
   "nbconvert_exporter": "python",
   "pygments_lexer": "ipython3",
   "version": "3.8.6"
  }
 },
 "nbformat": 4,
 "nbformat_minor": 5
}
