{
 "cells": [
  {
   "cell_type": "code",
   "execution_count": null,
   "id": "c6b553a8",
   "metadata": {},
   "outputs": [],
   "source": [
    "import numpy as np\n",
    "import pandas as pd\n",
    "from math import isnan\n",
    "import re"
   ]
  },
  {
   "cell_type": "code",
   "execution_count": null,
   "id": "d308bfe8",
   "metadata": {},
   "outputs": [],
   "source": [
    "from ape_producer.geom_reader import create_geom_df\n",
    "from ape_producer.parse_report import make_cov_objects\n",
    "from ape_producer.sign_conventions import signConventions, square_coordinates"
   ]
  },
  {
   "cell_type": "code",
   "execution_count": null,
   "id": "e86b6e30",
   "metadata": {},
   "outputs": [],
   "source": [
    "# ipython magic to autoreload modules for development\n",
    "%load_ext autoreload\n",
    "%autoreload 2"
   ]
  },
  {
   "cell_type": "code",
   "execution_count": null,
   "id": "b4b26b0b",
   "metadata": {},
   "outputs": [],
   "source": [
    "#options\n",
    "outName = 'Test'\n",
    "isDT = True\n",
    "isData = False\n",
    "is3DOF = False\n",
    "outname = '_test'\n",
    "'/eos/cms/store/group/alca_muonalign/'\n",
    "xmlFileAlign = 'data/run3MC_test_5_01.xml'\n",
    "reportfile = 'data/run3MC_test_5_01_report.py'\n",
    "xmlFileIdealGeom = 'data/muonGeometry_IDEAL_AllZeroes.Ape6x6.StdTags.746p3.DBv2.xml'\n",
    "debug = True"
   ]
  },
  {
   "cell_type": "code",
   "execution_count": null,
   "id": "ec2d80ae",
   "metadata": {},
   "outputs": [],
   "source": [
    "exec(open(reportfile).read())\n",
    "aligned_geom_dt, aligned_geom_csc  = create_geom_df(xmlFileAlign)\n",
    "if not isData:\n",
    "    ideal_geom_dt, ideal_geom_csc = create_geom_df(xmlFileIdealGeom)"
   ]
  },
  {
   "cell_type": "code",
   "execution_count": null,
   "id": "04a3cd26",
   "metadata": {},
   "outputs": [],
   "source": [
    "import matplotlib.pyplot as plt"
   ]
  },
  {
   "cell_type": "code",
   "execution_count": null,
   "id": "16d5b3f2",
   "metadata": {},
   "outputs": [],
   "source": [
    "alignables = ['x','y','z','phix', 'phiy', 'phiz']\n",
    "\n",
    "for dim in alignables:\n",
    "    aligned_geom_dt['measured_error_{}'.format(dim)] = aligned_geom_dt[dim] - ideal_geom_dt[dim]\n",
    "aligned_geom_dt"
   ]
  },
  {
   "cell_type": "code",
   "execution_count": null,
   "id": "855b7d4d",
   "metadata": {},
   "outputs": [],
   "source": [
    "def sel_wheel_station(df, wheel, station):\n",
    "    return df[(df.wheel==wheel) &  (df.station==station)]\n",
    "def std_dev(x):\n",
    "    print(x)\n",
    "    return np.sum(x**2, axis=0)**.5"
   ]
  },
  {
   "cell_type": "code",
   "execution_count": null,
   "id": "ab2a4521",
   "metadata": {},
   "outputs": [],
   "source": [
    "error_list = []\n",
    "wheel_stations = np.unique(aligned_geom_dt[['wheel', 'station']], axis=0)\n",
    "for wheel, station in wheel_stations:\n",
    "    error_list.append({\"wheel\": wheel, \"station\": station, \n",
    "                       **std_dev(sel_wheel_station(aligned_geom_dt,wheel,station)[alignables]).to_dict()\n",
    "                      })\n",
    "error_df = pd.DataFrame(error_list)"
   ]
  },
  {
   "cell_type": "code",
   "execution_count": null,
   "id": "0ce19827",
   "metadata": {},
   "outputs": [],
   "source": [
    "error_df"
   ]
  },
  {
   "cell_type": "code",
   "execution_count": null,
   "id": "7ea48590",
   "metadata": {},
   "outputs": [],
   "source": [
    "dt_cov_df, csc_cov_df = make_cov_objects(reports, debug=False)"
   ]
  },
  {
   "cell_type": "code",
   "execution_count": null,
   "id": "ba3bb503",
   "metadata": {},
   "outputs": [],
   "source": [
    "hesse_list = []\n",
    "wheel_stations = np.unique(aligned_geom_dt[['wheel', 'station']], axis=0)\n",
    "for wheel, station in wheel_stations:\n",
    "    covMatrix = sel_wheel_station(dt_cov_df,wheel,station).covMatrix.mean()\n",
    "    hess_stds = np.diagonal(covMatrix)**.5\n",
    "    hesse_list.append({\"wheel\": wheel, \"station\": station, **{dim:hess for hess, dim in zip(hess_stds, alignables)}})\n",
    "hesse_df = pd.DataFrame(hesse_list)\n",
    "hesse_df"
   ]
  },
  {
   "cell_type": "code",
   "execution_count": null,
   "id": "e50ec24a",
   "metadata": {},
   "outputs": [],
   "source": [
    "sys_df = (error_df**2-hesse_df**2)**.5"
   ]
  },
  {
   "cell_type": "code",
   "execution_count": null,
   "id": "c992808f",
   "metadata": {},
   "outputs": [],
   "source": [
    "sys_df[['wheel', 'station']] = error_df[['wheel', 'station']]"
   ]
  },
  {
   "cell_type": "code",
   "execution_count": null,
   "id": "1011a04b",
   "metadata": {},
   "outputs": [],
   "source": [
    "sys_df"
   ]
  },
  {
   "cell_type": "code",
   "execution_count": null,
   "id": "5a047f30",
   "metadata": {},
   "outputs": [],
   "source": [
    "def make_heatmap(df, dim):\n",
    "    twod_edges = (np.linspace(-2.5,2.5,6), np.linspace(.5,4.5,5))\n",
    "    twod_centers = (np.linspace(-2,2,5), np.linspace(1,4,4))\n",
    "    heatmap, _, _ = np.histogram2d(df.wheel, df.station, bins=twod_edges, weights=df[dim])\n",
    "    plt.imshow(heatmap.T)\n",
    "    plt.colorbar()"
   ]
  },
  {
   "cell_type": "code",
   "execution_count": null,
   "id": "b54e8c2d",
   "metadata": {},
   "outputs": [],
   "source": [
    "make_heatmap(sys_df, 'x')"
   ]
  },
  {
   "cell_type": "code",
   "execution_count": null,
   "id": "7ede14f5",
   "metadata": {},
   "outputs": [],
   "source": [
    "make_heatmap(sys_df, 'y')"
   ]
  },
  {
   "cell_type": "code",
   "execution_count": null,
   "id": "e240047c",
   "metadata": {},
   "outputs": [],
   "source": [
    "make_heatmap(sys_df, 'z')"
   ]
  },
  {
   "cell_type": "code",
   "execution_count": null,
   "id": "e59449d7",
   "metadata": {},
   "outputs": [],
   "source": []
  },
  {
   "cell_type": "code",
   "execution_count": null,
   "id": "447122da",
   "metadata": {},
   "outputs": [],
   "source": []
  }
 ],
 "metadata": {
  "kernelspec": {
   "display_name": "Python 3",
   "language": "python",
   "name": "python3"
  },
  "language_info": {
   "codemirror_mode": {
    "name": "ipython",
    "version": 3
   },
   "file_extension": ".py",
   "mimetype": "text/x-python",
   "name": "python",
   "nbconvert_exporter": "python",
   "pygments_lexer": "ipython3",
   "version": "3.8.6"
  }
 },
 "nbformat": 4,
 "nbformat_minor": 5
}
